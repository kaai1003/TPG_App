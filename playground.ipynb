{
 "cells": [
  {
   "cell_type": "markdown",
   "metadata": {},
   "source": [
    "## Imports"
   ]
  },
  {
   "cell_type": "code",
   "execution_count": 1,
   "metadata": {},
   "outputs": [],
   "source": [
    "from models.connectors import Connector\n",
    "from models.testmodules import TestModule\n",
    "from models.testprobes import TestProbe\n",
    "from models.suppliers import Supplier\n",
    "from models.users import User\n",
    "from models import storage"
   ]
  },
  {
   "cell_type": "markdown",
   "metadata": {},
   "source": [
    "## Test probes"
   ]
  },
  {
   "cell_type": "code",
   "execution_count": 2,
   "metadata": {},
   "outputs": [
    {
     "name": "stdout",
     "output_type": "stream",
     "text": [
      "-------------Create new User------------\n",
      "{'user': 'kacem', 'password': 'abcd1234', 'role': 'admin'}\n",
      "-------------Create suppliers------------\n",
      "suppliers added succesfully\n",
      "-------------Create Connector------------\n",
      "[Connector] (8beca90c-a091-4be3-b940-aad9dcd1c1a2) {'serial_number': 'P00023432', 'terminals': 6, 'supplier_id': '6a07bc96-db50-4854-8254-74411e542f46', 'created_at': datetime.datetime(2024, 10, 17, 13, 54, 56, 590317), 'updated_at': datetime.datetime(2024, 10, 17, 13, 54, 56, 590326), 'id': '8beca90c-a091-4be3-b940-aad9dcd1c1a2'}\n",
      "-------------Create TestProbe------------\n",
      "[TestProbe] (ef93062f-9d05-449c-8ad4-5382a53e8423) {'serial_number': 'FZ0002', 'stock_location': 'A23', 'pushback': False, 'supplier_id': 'e6da9818-8afc-4a08-986c-e4298f98ce40', 'created_at': datetime.datetime(2024, 10, 17, 13, 54, 56, 590834), 'updated_at': datetime.datetime(2024, 10, 17, 13, 54, 56, 590871), 'id': 'ef93062f-9d05-449c-8ad4-5382a53e8423'}\n",
      "-------------Create Test Module------------\n",
      "[TestModule] (c15b4576-ba63-491e-a914-ca065a89eb91) {'serial_number': 'P00023432', 'terminals': 6, 'pushback': False, 'supplier_id': '9a92f3b4-7409-4646-bab9-0d76cca18361', 'connector_id': '8beca90c-a091-4be3-b940-aad9dcd1c1a2', 'probeid': 'ef93062f-9d05-449c-8ad4-5382a53e8423', 'created_at': datetime.datetime(2024, 10, 17, 13, 54, 56, 604404), 'updated_at': datetime.datetime(2024, 10, 17, 13, 54, 56, 604410), 'id': 'c15b4576-ba63-491e-a914-ca065a89eb91'}\n"
     ]
    }
   ],
   "source": [
    "print('-------------Create new User------------')\n",
    "user = {'user': 'kacem', 'password': 'abcd1234', 'role': 'admin'}\n",
    "new_user = User(**user)\n",
    "storage.new(new_user)\n",
    "storage.save()\n",
    "print(user)\n",
    "print('-------------Create suppliers------------')\n",
    "supplier1 = {'name': 'EMDEP', 'type': 'TestModules'}\n",
    "supplier2 = {'name': 'Tyco', 'type': 'Connectors'}\n",
    "supplier3 = {'name': 'Ingun', 'type': 'TestProbes'}\n",
    "suppl1 = Supplier(**supplier1)\n",
    "storage.new(suppl1)\n",
    "suppl2 = Supplier(**supplier2)\n",
    "storage.new(suppl2)\n",
    "suppl3 = Supplier(**supplier3)\n",
    "storage.new(suppl3)\n",
    "storage.save()\n",
    "print('suppliers added succesfully')\n",
    "print('-------------Create Connector------------')\n",
    "con1 = {'serial_number': 'P00023432', 'terminals': 6, 'supplier_id': suppl2.id}\n",
    "connector1 = Connector(**con1)\n",
    "storage.new(connector1)\n",
    "print(connector1)\n",
    "print('-------------Create TestProbe------------')\n",
    "tb1 = {'serial_number': 'FZ0002',\n",
    "       'stock_location': 'A23',\n",
    "       'pushback': False,\n",
    "       'supplier_id': suppl3.id}\n",
    "probe1 = TestProbe(**tb1)\n",
    "storage.new(probe1)\n",
    "storage.save()\n",
    "print(probe1)\n",
    "print('-------------Create Test Module------------')\n",
    "tm1 = {'serial_number': 'P00023432',\n",
    "       'terminals': 6,\n",
    "       'pushback': False,\n",
    "       'supplier_id': suppl1.id,\n",
    "       'connector_id': connector1.id,\n",
    "       'probeid': probe1.id}\n",
    "testmodule1 = TestModule(**tm1)\n",
    "storage.new(testmodule1)\n",
    "print(testmodule1)\n",
    "storage.save()"
   ]
  }
 ],
 "metadata": {
  "kernelspec": {
   "display_name": "Python 3",
   "language": "python",
   "name": "python3"
  },
  "language_info": {
   "codemirror_mode": {
    "name": "ipython",
    "version": 3
   },
   "file_extension": ".py",
   "mimetype": "text/x-python",
   "name": "python",
   "nbconvert_exporter": "python",
   "pygments_lexer": "ipython3",
   "version": "3.10.12"
  }
 },
 "nbformat": 4,
 "nbformat_minor": 2
}
